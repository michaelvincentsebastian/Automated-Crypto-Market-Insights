{
 "cells": [
  {
   "cell_type": "markdown",
   "id": "82ed95dd",
   "metadata": {},
   "source": [
    "#### **import module**"
   ]
  },
  {
   "cell_type": "code",
   "execution_count": null,
   "id": "a739d1ab",
   "metadata": {},
   "outputs": [],
   "source": [
    "from requests import Session\n",
    "from requests.exceptions import ConnectionError, Timeout, TooManyRedirects\n",
    "from dotenv import load_dotenv\n",
    "import os\n",
    "import json\n",
    "import pandas as pd\n",
    "import numpy as np\n",
    "import matplotlib.pyplot as plt\n",
    "import seaborn as sns\n",
    "from time import time\n",
    "from time import sleep"
   ]
  },
  {
   "cell_type": "markdown",
   "id": "8aef0402",
   "metadata": {},
   "source": [
    "#### **set no limit on dataframe**"
   ]
  },
  {
   "cell_type": "code",
   "execution_count": null,
   "id": "4b77f6a8",
   "metadata": {},
   "outputs": [],
   "source": [
    "pd.set_option('display.max_columns', None)  # Tampilkan semua kolom\n",
    "pd.set_option('display.max_rows', None)  # Tampilkan semua baris"
   ]
  },
  {
   "cell_type": "markdown",
   "id": "fa03ffac",
   "metadata": {},
   "source": [
    "#### **load the api key in the '.env'**"
   ]
  },
  {
   "cell_type": "code",
   "execution_count": 3,
   "id": "72a02339",
   "metadata": {},
   "outputs": [],
   "source": [
    "load_dotenv()\n",
    "api_key = os.getenv(\"coin-marketcap-api-key\")  # Ambil key dari .env"
   ]
  },
  {
   "cell_type": "code",
   "execution_count": null,
   "id": "9388aab9",
   "metadata": {},
   "outputs": [],
   "source": [
    "url = 'https://pro-api.coinmarketcap.com/v1/cryptocurrency/listings/latest'\n",
    "parameters = {\n",
    "  'start':'1',\n",
    "  'limit':'10',\n",
    "  'convert':'USD'\n",
    "}\n",
    "headers = {\n",
    "  'Accepts': 'application/json',\n",
    "  'X-CMC_PRO_API_KEY': 'b54bcf4d-1bca-4e8e-9a24-22ff2c3d462c',\n",
    "}\n",
    "\n",
    "session = Session()\n",
    "session.headers.update(headers)\n",
    "\n",
    "try:\n",
    "  response = session.get(url, params=parameters)\n",
    "  data = json.loads(response.text)\n",
    "  print(data)\n",
    "except (ConnectionError, Timeout, TooManyRedirects) as e:\n",
    "  print(e)\n"
   ]
  }
 ],
 "metadata": {
  "kernelspec": {
   "display_name": "base",
   "language": "python",
   "name": "python3"
  },
  "language_info": {
   "codemirror_mode": {
    "name": "ipython",
    "version": 3
   },
   "file_extension": ".py",
   "mimetype": "text/x-python",
   "name": "python",
   "nbconvert_exporter": "python",
   "pygments_lexer": "ipython3",
   "version": "3.13.5"
  }
 },
 "nbformat": 4,
 "nbformat_minor": 5
}
